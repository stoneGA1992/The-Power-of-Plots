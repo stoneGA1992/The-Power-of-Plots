{
 "cells": [
  {
   "cell_type": "markdown",
   "metadata": {},
   "source": [
    "## Observations and Insights"
   ]
  },
  {
   "cell_type": "markdown",
   "metadata": {},
   "source": [
    "# Observations\n",
    "\n",
    "-\tWhile the point of this study was meant to compare Capomulin versus other drugs of interest, it has many more data points compared to the other drugs (except for Ramicane). It would be interesting to see the results if there were as many data points for each regimen. \n",
    "-\tFor many different mice, it looks like Capomulin reduced the Tumor volume over time. It also coincided with lower tumor volume at its final timepoints. Ramicane also had much lower final tumor volume compared to other Regimen.\n",
    "-\tBased off the correlation factor, and the linear regression, its apparent that there is a positive relationship between weight and tumor volume. It could possibly just mean that larger mice usually have higher tumor volume. It would be interesting to see average volume per unit of weight to see if there are any additional insights.   \n"
   ]
  },
  {
   "cell_type": "markdown",
   "metadata": {},
   "source": [
    "## Dependencies and starter code"
   ]
  },
  {
   "cell_type": "code",
   "execution_count": 3,
   "metadata": {},
   "outputs": [],
   "source": [
    "# Dependencies and Setup\n",
    "import matplotlib.pyplot as plt\n",
    "import pandas as pd\n",
    "import scipy.stats as st\n",
    "import numpy as np\n",
    "from scipy.stats import linregress\n",
    "\n",
    "\n",
    "# Study data files\n",
    "mouse_metadata = \"data/Mouse_metadata.csv\"\n",
    "study_results = \"data/Study_results.csv\"\n",
    "\n",
    "# Read the mouse data and the study results\n",
    "mouse_metadata = pd.read_csv(mouse_metadata)\n",
    "study_results = pd.read_csv(study_results)\n",
    "\n",
    "# Combine the data into a single dataset\n",
    "\n",
    "\n"
   ]
  },
  {
   "cell_type": "code",
   "execution_count": 4,
   "metadata": {},
   "outputs": [
    {
     "data": {
      "text/html": [
       "<div>\n",
       "<style scoped>\n",
       "    .dataframe tbody tr th:only-of-type {\n",
       "        vertical-align: middle;\n",
       "    }\n",
       "\n",
       "    .dataframe tbody tr th {\n",
       "        vertical-align: top;\n",
       "    }\n",
       "\n",
       "    .dataframe thead th {\n",
       "        text-align: right;\n",
       "    }\n",
       "</style>\n",
       "<table border=\"1\" class=\"dataframe\">\n",
       "  <thead>\n",
       "    <tr style=\"text-align: right;\">\n",
       "      <th></th>\n",
       "      <th>Mouse ID</th>\n",
       "      <th>Drug Regimen</th>\n",
       "      <th>Sex</th>\n",
       "      <th>Age_months</th>\n",
       "      <th>Weight (g)</th>\n",
       "    </tr>\n",
       "  </thead>\n",
       "  <tbody>\n",
       "    <tr>\n",
       "      <th>0</th>\n",
       "      <td>k403</td>\n",
       "      <td>Ramicane</td>\n",
       "      <td>Male</td>\n",
       "      <td>21</td>\n",
       "      <td>16</td>\n",
       "    </tr>\n",
       "    <tr>\n",
       "      <th>1</th>\n",
       "      <td>s185</td>\n",
       "      <td>Capomulin</td>\n",
       "      <td>Female</td>\n",
       "      <td>3</td>\n",
       "      <td>17</td>\n",
       "    </tr>\n",
       "    <tr>\n",
       "      <th>2</th>\n",
       "      <td>x401</td>\n",
       "      <td>Capomulin</td>\n",
       "      <td>Female</td>\n",
       "      <td>16</td>\n",
       "      <td>15</td>\n",
       "    </tr>\n",
       "    <tr>\n",
       "      <th>3</th>\n",
       "      <td>m601</td>\n",
       "      <td>Capomulin</td>\n",
       "      <td>Male</td>\n",
       "      <td>22</td>\n",
       "      <td>17</td>\n",
       "    </tr>\n",
       "    <tr>\n",
       "      <th>4</th>\n",
       "      <td>g791</td>\n",
       "      <td>Ramicane</td>\n",
       "      <td>Male</td>\n",
       "      <td>11</td>\n",
       "      <td>16</td>\n",
       "    </tr>\n",
       "  </tbody>\n",
       "</table>\n",
       "</div>"
      ],
      "text/plain": [
       "  Mouse ID Drug Regimen     Sex  Age_months  Weight (g)\n",
       "0     k403     Ramicane    Male          21          16\n",
       "1     s185    Capomulin  Female           3          17\n",
       "2     x401    Capomulin  Female          16          15\n",
       "3     m601    Capomulin    Male          22          17\n",
       "4     g791     Ramicane    Male          11          16"
      ]
     },
     "execution_count": 4,
     "metadata": {},
     "output_type": "execute_result"
    }
   ],
   "source": [
    "mouse_metadata.head()"
   ]
  },
  {
   "cell_type": "code",
   "execution_count": 5,
   "metadata": {},
   "outputs": [
    {
     "data": {
      "text/html": [
       "<div>\n",
       "<style scoped>\n",
       "    .dataframe tbody tr th:only-of-type {\n",
       "        vertical-align: middle;\n",
       "    }\n",
       "\n",
       "    .dataframe tbody tr th {\n",
       "        vertical-align: top;\n",
       "    }\n",
       "\n",
       "    .dataframe thead th {\n",
       "        text-align: right;\n",
       "    }\n",
       "</style>\n",
       "<table border=\"1\" class=\"dataframe\">\n",
       "  <thead>\n",
       "    <tr style=\"text-align: right;\">\n",
       "      <th></th>\n",
       "      <th>Mouse ID</th>\n",
       "      <th>Timepoint</th>\n",
       "      <th>Tumor Volume (mm3)</th>\n",
       "      <th>Metastatic Sites</th>\n",
       "    </tr>\n",
       "  </thead>\n",
       "  <tbody>\n",
       "    <tr>\n",
       "      <th>0</th>\n",
       "      <td>b128</td>\n",
       "      <td>0</td>\n",
       "      <td>45.0</td>\n",
       "      <td>0</td>\n",
       "    </tr>\n",
       "    <tr>\n",
       "      <th>1</th>\n",
       "      <td>f932</td>\n",
       "      <td>0</td>\n",
       "      <td>45.0</td>\n",
       "      <td>0</td>\n",
       "    </tr>\n",
       "    <tr>\n",
       "      <th>2</th>\n",
       "      <td>g107</td>\n",
       "      <td>0</td>\n",
       "      <td>45.0</td>\n",
       "      <td>0</td>\n",
       "    </tr>\n",
       "    <tr>\n",
       "      <th>3</th>\n",
       "      <td>a457</td>\n",
       "      <td>0</td>\n",
       "      <td>45.0</td>\n",
       "      <td>0</td>\n",
       "    </tr>\n",
       "    <tr>\n",
       "      <th>4</th>\n",
       "      <td>c819</td>\n",
       "      <td>0</td>\n",
       "      <td>45.0</td>\n",
       "      <td>0</td>\n",
       "    </tr>\n",
       "  </tbody>\n",
       "</table>\n",
       "</div>"
      ],
      "text/plain": [
       "  Mouse ID  Timepoint  Tumor Volume (mm3)  Metastatic Sites\n",
       "0     b128          0                45.0                 0\n",
       "1     f932          0                45.0                 0\n",
       "2     g107          0                45.0                 0\n",
       "3     a457          0                45.0                 0\n",
       "4     c819          0                45.0                 0"
      ]
     },
     "execution_count": 5,
     "metadata": {},
     "output_type": "execute_result"
    }
   ],
   "source": [
    "study_results.head()"
   ]
  },
  {
   "cell_type": "code",
   "execution_count": 6,
   "metadata": {},
   "outputs": [
    {
     "data": {
      "text/html": [
       "<div>\n",
       "<style scoped>\n",
       "    .dataframe tbody tr th:only-of-type {\n",
       "        vertical-align: middle;\n",
       "    }\n",
       "\n",
       "    .dataframe tbody tr th {\n",
       "        vertical-align: top;\n",
       "    }\n",
       "\n",
       "    .dataframe thead th {\n",
       "        text-align: right;\n",
       "    }\n",
       "</style>\n",
       "<table border=\"1\" class=\"dataframe\">\n",
       "  <thead>\n",
       "    <tr style=\"text-align: right;\">\n",
       "      <th></th>\n",
       "      <th>Mouse ID</th>\n",
       "      <th>Drug Regimen</th>\n",
       "      <th>Sex</th>\n",
       "      <th>Age_months</th>\n",
       "      <th>Weight (g)</th>\n",
       "      <th>Timepoint</th>\n",
       "      <th>Tumor Volume (mm3)</th>\n",
       "      <th>Metastatic Sites</th>\n",
       "    </tr>\n",
       "  </thead>\n",
       "  <tbody>\n",
       "    <tr>\n",
       "      <th>1277</th>\n",
       "      <td>o331</td>\n",
       "      <td>Ketapril</td>\n",
       "      <td>Male</td>\n",
       "      <td>24</td>\n",
       "      <td>30</td>\n",
       "      <td>45</td>\n",
       "      <td>78.567014</td>\n",
       "      <td>4</td>\n",
       "    </tr>\n",
       "    <tr>\n",
       "      <th>1152</th>\n",
       "      <td>l725</td>\n",
       "      <td>Naftisol</td>\n",
       "      <td>Female</td>\n",
       "      <td>8</td>\n",
       "      <td>26</td>\n",
       "      <td>45</td>\n",
       "      <td>76.668817</td>\n",
       "      <td>3</td>\n",
       "    </tr>\n",
       "    <tr>\n",
       "      <th>1354</th>\n",
       "      <td>p189</td>\n",
       "      <td>Ketapril</td>\n",
       "      <td>Male</td>\n",
       "      <td>8</td>\n",
       "      <td>28</td>\n",
       "      <td>45</td>\n",
       "      <td>75.294936</td>\n",
       "      <td>4</td>\n",
       "    </tr>\n",
       "    <tr>\n",
       "      <th>1179</th>\n",
       "      <td>m269</td>\n",
       "      <td>Stelasyn</td>\n",
       "      <td>Female</td>\n",
       "      <td>22</td>\n",
       "      <td>28</td>\n",
       "      <td>45</td>\n",
       "      <td>75.123690</td>\n",
       "      <td>1</td>\n",
       "    </tr>\n",
       "    <tr>\n",
       "      <th>1571</th>\n",
       "      <td>t724</td>\n",
       "      <td>Naftisol</td>\n",
       "      <td>Female</td>\n",
       "      <td>2</td>\n",
       "      <td>25</td>\n",
       "      <td>45</td>\n",
       "      <td>75.113288</td>\n",
       "      <td>2</td>\n",
       "    </tr>\n",
       "  </tbody>\n",
       "</table>\n",
       "</div>"
      ],
      "text/plain": [
       "     Mouse ID Drug Regimen     Sex  Age_months  Weight (g)  Timepoint  \\\n",
       "1277     o331     Ketapril    Male          24          30         45   \n",
       "1152     l725     Naftisol  Female           8          26         45   \n",
       "1354     p189     Ketapril    Male           8          28         45   \n",
       "1179     m269     Stelasyn  Female          22          28         45   \n",
       "1571     t724     Naftisol  Female           2          25         45   \n",
       "\n",
       "      Tumor Volume (mm3)  Metastatic Sites  \n",
       "1277           78.567014                 4  \n",
       "1152           76.668817                 3  \n",
       "1354           75.294936                 4  \n",
       "1179           75.123690                 1  \n",
       "1571           75.113288                 2  "
      ]
     },
     "execution_count": 6,
     "metadata": {},
     "output_type": "execute_result"
    }
   ],
   "source": [
    "merge_table = pd.merge(mouse_metadata, study_results, on= \"Mouse ID\", how=\"outer\")\n",
    "\n",
    "organized_merge = merge_table.sort_values([\"Tumor Volume (mm3)\"], ascending = False)\n",
    "\n",
    "organized_merge.head()"
   ]
  },
  {
   "cell_type": "markdown",
   "metadata": {},
   "source": [
    "## Summary statistics"
   ]
  },
  {
   "cell_type": "code",
   "execution_count": 7,
   "metadata": {},
   "outputs": [
    {
     "data": {
      "text/html": [
       "<div>\n",
       "<style scoped>\n",
       "    .dataframe tbody tr th:only-of-type {\n",
       "        vertical-align: middle;\n",
       "    }\n",
       "\n",
       "    .dataframe tbody tr th {\n",
       "        vertical-align: top;\n",
       "    }\n",
       "\n",
       "    .dataframe thead th {\n",
       "        text-align: right;\n",
       "    }\n",
       "</style>\n",
       "<table border=\"1\" class=\"dataframe\">\n",
       "  <thead>\n",
       "    <tr style=\"text-align: right;\">\n",
       "      <th></th>\n",
       "      <th>Tumor mean</th>\n",
       "      <th>Tumor Median</th>\n",
       "      <th>Tumor Var</th>\n",
       "      <th>Tumor Stdev</th>\n",
       "    </tr>\n",
       "    <tr>\n",
       "      <th>Drug Regimen</th>\n",
       "      <th></th>\n",
       "      <th></th>\n",
       "      <th></th>\n",
       "      <th></th>\n",
       "    </tr>\n",
       "  </thead>\n",
       "  <tbody>\n",
       "    <tr>\n",
       "      <th>Capomulin</th>\n",
       "      <td>40.675741</td>\n",
       "      <td>41.557809</td>\n",
       "      <td>24.947764</td>\n",
       "      <td>4.994774</td>\n",
       "    </tr>\n",
       "    <tr>\n",
       "      <th>Ceftamin</th>\n",
       "      <td>52.591172</td>\n",
       "      <td>51.776157</td>\n",
       "      <td>39.290177</td>\n",
       "      <td>6.268188</td>\n",
       "    </tr>\n",
       "    <tr>\n",
       "      <th>Infubinol</th>\n",
       "      <td>52.884795</td>\n",
       "      <td>51.820584</td>\n",
       "      <td>43.128684</td>\n",
       "      <td>6.567243</td>\n",
       "    </tr>\n",
       "    <tr>\n",
       "      <th>Ketapril</th>\n",
       "      <td>55.235638</td>\n",
       "      <td>53.698743</td>\n",
       "      <td>68.553577</td>\n",
       "      <td>8.279709</td>\n",
       "    </tr>\n",
       "    <tr>\n",
       "      <th>Naftisol</th>\n",
       "      <td>54.331565</td>\n",
       "      <td>52.509285</td>\n",
       "      <td>66.173479</td>\n",
       "      <td>8.134708</td>\n",
       "    </tr>\n",
       "  </tbody>\n",
       "</table>\n",
       "</div>"
      ],
      "text/plain": [
       "              Tumor mean  Tumor Median  Tumor Var  Tumor Stdev\n",
       "Drug Regimen                                                  \n",
       "Capomulin      40.675741     41.557809  24.947764     4.994774\n",
       "Ceftamin       52.591172     51.776157  39.290177     6.268188\n",
       "Infubinol      52.884795     51.820584  43.128684     6.567243\n",
       "Ketapril       55.235638     53.698743  68.553577     8.279709\n",
       "Naftisol       54.331565     52.509285  66.173479     8.134708"
      ]
     },
     "execution_count": 7,
     "metadata": {},
     "output_type": "execute_result"
    }
   ],
   "source": [
    "# Generate a summary statistics table of mean, median, variance, standard deviation, and SEM of the tumor volume for each regimen\n",
    "\n",
    "#Create Groupby\n",
    "regimen_table = organized_merge.groupby([\"Drug Regimen\"])\n",
    "\n",
    "regimen_table.head()\n",
    "\n",
    "\n",
    "#Calculations\n",
    "tumor_mean = regimen_table[\"Tumor Volume (mm3)\"].mean()\n",
    "\n",
    "tumor_median = regimen_table[\"Tumor Volume (mm3)\"].median()\n",
    "\n",
    "tumor_var = regimen_table[\"Tumor Volume (mm3)\"].var()\n",
    "\n",
    "tumor_std = regimen_table[\"Tumor Volume (mm3)\"].std()\n",
    "\n",
    "#print(tumor_mean)\n",
    "#print(tumor_median)\n",
    "#print(tumor_var)\n",
    "#print(tumor_std)\n",
    "\n",
    "#Build the Dataframe\n",
    "\n",
    "regimen_analysis = pd.DataFrame({\"Tumor mean\": tumor_mean, \"Tumor Median\": tumor_median,\n",
    "                                \"Tumor Var\": tumor_var, \"Tumor Stdev\": tumor_std})\n",
    "\n",
    "regimen_analysis.head()\n"
   ]
  },
  {
   "cell_type": "markdown",
   "metadata": {},
   "source": [
    "## Bar plots"
   ]
  },
  {
   "cell_type": "code",
   "execution_count": 21,
   "metadata": {},
   "outputs": [
    {
     "data": {
      "text/plain": [
       "<matplotlib.axes._subplots.AxesSubplot at 0x21ec24c2588>"
      ]
     },
     "execution_count": 21,
     "metadata": {},
     "output_type": "execute_result"
    },
    {
     "data": {
      "image/png": "[encoded data removed]",
      "text/plain": [
       "<Figure size 432x288 with 1 Axes>"
      ]
     },
     "metadata": {
      "needs_background": "light"
     },
     "output_type": "display_data"
    }
   ],
   "source": [
    "# Generate a bar plot showing number of data points for each treatment regimen using pandas\n",
    "\n",
    "#Create filtered table\n",
    "datapoint_table = organized_merge[[\"Drug Regimen\",\"Timepoint\"]]\n",
    "\n",
    "#set the Index\n",
    "datapoint_count = datapoint_table[\"Drug Regimen\"].value_counts()\n",
    "\n",
    "\n",
    "\n",
    "#Configure plot and ticks\n",
    "\n",
    "datapoint_count.plot(kind=\"bar\", title =\"Data points per Treatment\")\n"
   ]
  },
  {
   "cell_type": "code",
   "execution_count": 9,
   "metadata": {},
   "outputs": [
    {
     "data": {
      "text/plain": [
       "([<matplotlib.axis.XTick at 0x21ec221de80>,\n",
       "  <matplotlib.axis.XTick at 0x21ec221d860>,\n",
       "  <matplotlib.axis.XTick at 0x21ec221d550>,\n",
       "  <matplotlib.axis.XTick at 0x21ec2255e80>,\n",
       "  <matplotlib.axis.XTick at 0x21ec2262390>,\n",
       "  <matplotlib.axis.XTick at 0x21ec2262780>,\n",
       "  <matplotlib.axis.XTick at 0x21ec2262cf8>,\n",
       "  <matplotlib.axis.XTick at 0x21ec226a2b0>,\n",
       "  <matplotlib.axis.XTick at 0x21ec226a828>,\n",
       "  <matplotlib.axis.XTick at 0x21ec226ada0>],\n",
       " <a list of 10 Text xticklabel objects>)"
      ]
     },
     "execution_count": 9,
     "metadata": {},
     "output_type": "execute_result"
    },
    {
     "data": {
      "image/png": "[encoded data removed]",
      "text/plain": [
       "<Figure size 432x288 with 1 Axes>"
      ]
     },
     "metadata": {
      "needs_background": "light"
     },
     "output_type": "display_data"
    }
   ],
   "source": [
    "# Generate a bar plot showing number of data points for each treatment regimen using pyplot\n",
    "\n",
    "data_count = regimen_table[\"Timepoint\"].count()\n",
    "data_count = data_count.sort_values( ascending = False)\n",
    "\n",
    "\n",
    "data_counter = pd.DataFrame({\"data points\": data_count})\n",
    "\n",
    "data_counter.head()\n",
    "\n",
    "\n",
    "# Set x axis and tick locations\n",
    "regimen_names = data_counter.index.tolist()\n",
    "\n",
    "x_axis = np.arange(len(regimen_names))\n",
    "\n",
    "tick_locations = [value for value in x_axis]\n",
    "\n",
    " #Create a list indicating where to write x labels and set figure size to adjust for space\n",
    "plt.title(\"Data points per Treatment\")\n",
    "plt.xlabel('Regimens')\n",
    "plt.ylabel('Datapoints')\n",
    "plt.bar(x_axis, data_counter[\"data points\"])\n",
    "plt.xticks(tick_locations, regimen_names, rotation=\"vertical\")\n",
    "\n"
   ]
  },
  {
   "cell_type": "markdown",
   "metadata": {},
   "source": [
    "## Pie plots"
   ]
  },
  {
   "cell_type": "code",
   "execution_count": 10,
   "metadata": {},
   "outputs": [
    {
     "data": {
      "image/png": "[encoded data removed]",
      "text/plain": [
       "<Figure size 432x288 with 1 Axes>"
      ]
     },
     "metadata": {},
     "output_type": "display_data"
    }
   ],
   "source": [
    "# Generate a pie plot showing the distribution of female versus male mice using pandas\n",
    "#Create filtered table\n",
    "\n",
    "gender_table = organized_merge[[\"Mouse ID\",\"Sex\"]]\n",
    "\n",
    "\n",
    "#set the Index\n",
    "gender_count = gender_table[\"Sex\"].value_counts(ascending = True)\n",
    "\n",
    "gender_count\n",
    "\n",
    "#Configure plot and ticks\n",
    "\n",
    "graph =gender_count.plot(kind=\"pie\", autopct=\"%1.1f%%\", title=\"Male v Female Mice\")\n",
    "\n",
    "\n"
   ]
  },
  {
   "cell_type": "code",
   "execution_count": 11,
   "metadata": {
    "scrolled": true
   },
   "outputs": [
    {
     "data": {
      "text/plain": [
       "<function matplotlib.pyplot.show(*args, **kw)>"
      ]
     },
     "execution_count": 11,
     "metadata": {},
     "output_type": "execute_result"
    },
    {
     "data": {
      "image/png": "[encoded data removed]",
      "text/plain": [
       "<Figure size 432x288 with 1 Axes>"
      ]
     },
     "metadata": {},
     "output_type": "display_data"
    }
   ],
   "source": [
    "# Generate a pie plot showing the distribution of female versus male mice using pyplot\n",
    "\n",
    "sex_table = organized_merge.groupby([\"Sex\"])\n",
    "\n",
    "sex_table.head()\n",
    "\n",
    "#organized_merge = merge_table.sort_values([\"Tumor Volume (mm3)\"], ascending = False)\n",
    "\n",
    "#Create Gender Count Data frame\n",
    "gender_count2 = sex_table[\"Sex\"].count()\n",
    "\n",
    "gender_counter = pd.DataFrame({\"Sex count\": gender_count2})\n",
    "\n",
    "gender_counter.head()\n",
    "\n",
    "\n",
    "# Set x axis and tick locations\n",
    "gender_names = gender_counter.index.tolist()\n",
    "\n",
    "\n",
    "    \n",
    "plt.pie(gender_count2, labels= gender_names, autopct=\"%1.1f%%\")\n",
    "plt.title(\"Male v Female Mice\")\n",
    "plt.ylabel('Sex')\n",
    "\n",
    "plt.show"
   ]
  },
  {
   "cell_type": "markdown",
   "metadata": {},
   "source": [
    "## Quartiles, outliers and boxplots"
   ]
  },
  {
   "cell_type": "code",
   "execution_count": 19,
   "metadata": {},
   "outputs": [
    {
     "name": "stdout",
     "output_type": "stream",
     "text": [
      "CAPOMULIN\n",
      "The lower quartile of Capomulin is: 32.37735684\n",
      "The upper quartile of Capomulin is: 40.1592203\n",
      "The interquartile range of Capomulin is: 7.781863460000004\n",
      "The the median of Capomulin is: 38.125164399999996 \n",
      "Values below 20.70456164999999 could be outliers.\n",
      "Values above 51.83201549 could be outliers.\n",
      "------------------------------------------------------------------------------\n",
      "RAMICANE\n",
      "The lower quartile of Ramicane is: 31.56046955\n",
      "The upper quartile of Ramicane is: 40.65900627\n",
      "The interquartile range of Ramicane is: 9.098536719999998\n",
      "The the median of Ramicane is: 36.56165229 \n",
      "Values below 17.912664470000003 could be outliers.\n",
      "Values above 54.30681135 could be outliers.\n",
      "------------------------------------------------------------------------------\n",
      "INFUBINOL\n",
      "The lower quartile of Infubinol is: 54.04860769\n",
      "The upper quartile of Infubinol is: 65.52574285\n",
      "The interquartile range of Infubinol is: 11.477135160000003\n",
      "The the median of Infubinol is: 60.16518046 \n",
      "Values below 36.83290494999999 could be outliers.\n",
      "Values above 82.74144559000001 could be outliers.\n",
      "------------------------------------------------------------------------------\n",
      "CEFTAMIN\n",
      "The lower quartile of Ceftamin is: 48.72207785\n",
      "The upper quartile of Ceftamin is: 64.29983003\n",
      "The interquartile range of Ceftamin is: 15.577752179999997\n",
      "The the median of Ceftamin is: 59.85195552 \n",
      "Values below 25.355449580000002 could be outliers.\n",
      "Values above 87.66645829999999 could be outliers.\n",
      "------------------------------------------------------------------------------\n",
      "------------------------------------------------------------------------------\n",
      "Based off of looking at the Box Plot, the only outlier falls under the Infubinol Regimen.\n"
     ]
    }
   ],
   "source": [
    "# Calculate the final tumor volume of each mouse across four of the most promising treatment regimens. \n",
    "#Calculate the IQR and quantitatively determine if there are any potential outliers.\n",
    "\n",
    "\n",
    "#Create new dataframe for Capomulin\n",
    "capo_table= merge_table[merge_table[\"Drug Regimen\"].isin([\"Capomulin\"])]\n",
    "capo_table = capo_table.sort_values([\"Mouse ID\", \"Timepoint\"], ascending = [True, True])\n",
    "capo_table = capo_table.drop_duplicates(subset= 'Mouse ID', keep =\"last\")\n",
    "capo_table = capo_table.sort_values(\"Tumor Volume (mm3)\", ascending = True)\n",
    "\n",
    "capo_tumor = capo_table[\"Tumor Volume (mm3)\"]\n",
    "\n",
    "#Compute quartile calculations\n",
    "quartile1 = capo_tumor.quantile([.25, .5, .75])\n",
    "\n",
    "lowerq1 = quartile1[0.25]\n",
    "upperq1 = quartile1[0.75]\n",
    "iqr1 = upperq1 - lowerq1\n",
    "lower_bound1 = lowerq1 - (1.5*iqr1)\n",
    "upper_bound1 = upperq1 + (1.5*iqr1)\n",
    "\n",
    "print(\"CAPOMULIN\")\n",
    "print(f\"The lower quartile of Capomulin is: {lowerq1}\")\n",
    "print(f\"The upper quartile of Capomulin is: {upperq1}\")\n",
    "print(f\"The interquartile range of Capomulin is: {iqr1}\")\n",
    "print(f\"The the median of Capomulin is: {quartile1[0.5]} \")\n",
    "\n",
    "print(f\"Values below {lower_bound1} could be outliers.\")\n",
    "print(f\"Values above {upper_bound1} could be outliers.\")\n",
    "\n",
    "print(\"------------------------------------------------------------------------------\")\n",
    "\n",
    "#--------------------------------------------------------------------------------------------\n",
    "\n",
    "#Creat new dataframe for Ramicane\n",
    "\n",
    "\n",
    "rami_table= merge_table[merge_table[\"Drug Regimen\"].isin([\"Ramicane\"])]\n",
    "rami_table = rami_table.sort_values([\"Mouse ID\", \"Timepoint\"], ascending = [True, True])\n",
    "rami_table = rami_table.drop_duplicates(subset= 'Mouse ID', keep =\"last\")\n",
    "rami_table = rami_table.sort_values(\"Tumor Volume (mm3)\", ascending = True)\n",
    "\n",
    "rami_tumor = rami_table[\"Tumor Volume (mm3)\"]\n",
    "\n",
    "#Compute quartile calculations\n",
    "quartile2 = rami_tumor.quantile([.25, .5, .75])\n",
    "\n",
    "lowerq2 = quartile2[0.25]\n",
    "upperq2 = quartile2[0.75]\n",
    "iqr2 = upperq2 - lowerq2\n",
    "lower_bound2 = lowerq2 - (1.5*iqr2)\n",
    "upper_bound2 = upperq2 + (1.5*iqr2)\n",
    "\n",
    "print(\"RAMICANE\")\n",
    "print(f\"The lower quartile of Ramicane is: {lowerq2}\")\n",
    "print(f\"The upper quartile of Ramicane is: {upperq2}\")\n",
    "print(f\"The interquartile range of Ramicane is: {iqr2}\")\n",
    "print(f\"The the median of Ramicane is: {quartile2[0.5]} \")\n",
    "\n",
    "print(f\"Values below {lower_bound2} could be outliers.\")\n",
    "print(f\"Values above {upper_bound2} could be outliers.\")\n",
    "\n",
    "print(\"------------------------------------------------------------------------------\")\n",
    "\n",
    "#--------------------------------------------------------------------------------------------\n",
    "\n",
    "#Creat new dataframe for Infubinol\n",
    "\n",
    "\n",
    "inf_table= merge_table[merge_table[\"Drug Regimen\"].isin([\"Infubinol\"])]\n",
    "inf_table = inf_table.sort_values([\"Mouse ID\", \"Timepoint\"], ascending = [True, True])\n",
    "inf_table = inf_table.drop_duplicates(subset= 'Mouse ID', keep =\"last\")\n",
    "inf_table = inf_table.sort_values(\"Tumor Volume (mm3)\", ascending = True)\n",
    "\n",
    "inf_tumor = inf_table[\"Tumor Volume (mm3)\"]\n",
    "\n",
    "#Compute quartile calculations\n",
    "quartile3 = inf_tumor.quantile([.25, .5, .75])\n",
    "\n",
    "lowerq3 = quartile3[0.25]\n",
    "upperq3 = quartile3[0.75]\n",
    "iqr3 = upperq3 - lowerq3\n",
    "lower_bound3 = lowerq3 - (1.5*iqr3)\n",
    "upper_bound3 = upperq3 + (1.5*iqr3)\n",
    "\n",
    "print(\"INFUBINOL\")\n",
    "print(f\"The lower quartile of Infubinol is: {lowerq3}\")\n",
    "print(f\"The upper quartile of Infubinol is: {upperq3}\")\n",
    "print(f\"The interquartile range of Infubinol is: {iqr3}\")\n",
    "print(f\"The the median of Infubinol is: {quartile3[0.5]} \")\n",
    "\n",
    "print(f\"Values below {lower_bound3} could be outliers.\")\n",
    "print(f\"Values above {upper_bound3} could be outliers.\")\n",
    "\n",
    "print(\"------------------------------------------------------------------------------\")\n",
    "\n",
    "#------------------------------------------------------------------------------------------\n",
    "\n",
    "#Creat new dataframe for Ceftamin\n",
    "\n",
    "\n",
    "cef_table= merge_table[merge_table[\"Drug Regimen\"].isin([\"Ceftamin\"])]\n",
    "cef_table = cef_table.sort_values([\"Mouse ID\", \"Timepoint\"], ascending = [True, True])\n",
    "cef_table = cef_table.drop_duplicates(subset= 'Mouse ID', keep =\"last\")\n",
    "cef_table = cef_table.sort_values(\"Tumor Volume (mm3)\", ascending = True)\n",
    "\n",
    "cef_tumor = cef_table[\"Tumor Volume (mm3)\"]\n",
    "\n",
    "#Compute quartile calculations\n",
    "quartile4 = cef_tumor.quantile([.25, .5, .75])\n",
    "\n",
    "lowerq4 = quartile4[0.25]\n",
    "upperq4 = quartile4[0.75]\n",
    "iqr4 = upperq4 - lowerq4\n",
    "lower_bound4 = lowerq4 - (1.5*iqr4)\n",
    "upper_bound4 = upperq4 + (1.5*iqr4)\n",
    "\n",
    "print(\"CEFTAMIN\")\n",
    "print(f\"The lower quartile of Ceftamin is: {lowerq4}\")\n",
    "print(f\"The upper quartile of Ceftamin is: {upperq4}\")\n",
    "print(f\"The interquartile range of Ceftamin is: {iqr4}\")\n",
    "print(f\"The the median of Ceftamin is: {quartile4[0.5]} \")\n",
    "\n",
    "print(f\"Values below {lower_bound4} could be outliers.\")\n",
    "print(f\"Values above {upper_bound4} could be outliers.\")\n",
    "\n",
    "print(\"------------------------------------------------------------------------------\")\n",
    "print(\"------------------------------------------------------------------------------\")\n",
    "print(\"Based off of looking at the Box Plot, the only outlier falls under the Infubinol Regimen.\")\n"
   ]
  },
  {
   "cell_type": "code",
   "execution_count": 13,
   "metadata": {},
   "outputs": [
    {
     "data": {
      "image/png": "[encoded data removed]",
      "text/plain": [
       "<Figure size 432x288 with 1 Axes>"
      ]
     },
     "metadata": {
      "needs_background": "light"
     },
     "output_type": "display_data"
    }
   ],
   "source": [
    "# Generate a box plot of the final tumor volume of each mouse across four regimens of interest\n",
    "data = []\n",
    "\n",
    "data.append(capo_tumor)\n",
    "data.append(rami_tumor)\n",
    "data.append(inf_tumor)\n",
    "data.append(cef_tumor)\n",
    "fig1, ax1 = plt.subplots()\n",
    "ax1.set_title('Final Tumor Volumes at final Timepoint')\n",
    "ax1.set_ylabel('Tumor Volume')\n",
    "ax1.boxplot(data, labels =[\"Capomulin\",\"Ramicane\",\"Infubinol\", \"Ceftamin\"])\n",
    "plt.show()\n",
    "\n",
    "\n"
   ]
  },
  {
   "cell_type": "markdown",
   "metadata": {},
   "source": [
    "## Line and scatter plots"
   ]
  },
  {
   "cell_type": "code",
   "execution_count": 23,
   "metadata": {},
   "outputs": [
    {
     "data": {
      "image/png": "[encoded data removed]",
      "text/plain": [
       "<Figure size 432x288 with 1 Axes>"
      ]
     },
     "metadata": {
      "needs_background": "light"
     },
     "output_type": "display_data"
    }
   ],
   "source": [
    "# Generate a line plot of time point versus tumor volume for a mouse treated with Capomulin\n",
    "\n",
    "\n",
    "mouse = \"b128\"\n",
    "\n",
    "#Create new dataframe\n",
    "mouse_table = merge_table[[\"Mouse ID\",\"Timepoint\",\"Tumor Volume (mm3)\" ]]\n",
    "\n",
    "mouse_table = mouse_table.sort_values([\"Timepoint\"], ascending = True)\n",
    "\n",
    "#Filter for Mouse\n",
    "\n",
    "mouse_table2 = mouse_table[(mouse_table[\"Mouse ID\"]== mouse)]\n",
    "\n",
    "mouse_table2\n",
    "\n",
    "\n",
    "mouse_tumor, = plt.plot(mouse_table2[\"Timepoint\"], mouse_table2[\"Tumor Volume (mm3)\"], label =\"Tumor Volume\" )\n",
    "\n",
    "plt.legend(handles=[mouse_tumor], loc=\"best\")\n",
    "\n",
    "plt.title(\"Tumor Volume over time for b128\")\n",
    "\n",
    "plt.ylabel(\"Tumor Volume\")\n",
    "\n",
    "plt.xlabel(\"Timepoints\")\n",
    "\n",
    "plt.show()\n",
    "\n",
    "\n"
   ]
  },
  {
   "cell_type": "code",
   "execution_count": 15,
   "metadata": {},
   "outputs": [
    {
     "data": {
      "text/plain": [
       "<function matplotlib.pyplot.show(*args, **kw)>"
      ]
     },
     "execution_count": 15,
     "metadata": {},
     "output_type": "execute_result"
    },
    {
     "data": {
      "image/png": "[encoded data removed]",
      "text/plain": [
       "<Figure size 432x288 with 1 Axes>"
      ]
     },
     "metadata": {
      "needs_background": "light"
     },
     "output_type": "display_data"
    }
   ],
   "source": [
    "# Generate a scatter plot of mouse weight versus average tumor volume for the Capomulin regimen\n",
    "\n",
    "\n",
    "\n",
    "Capomulin = merge_table[(merge_table[\"Drug Regimen\"] == \"Capomulin\")]\n",
    "Capomulin.head()\n",
    "Capomulin = Capomulin[[\"Mouse ID\", \"Weight (g)\", \"Tumor Volume (mm3)\"]]\n",
    "Capomulin = Capomulin.groupby(\"Mouse ID\").mean()\n",
    "Capomulin = Capomulin.reset_index()\n",
    "Capomulin.head(20)\n",
    "\n",
    "Capomulin.plot(kind=\"scatter\", x=\"Weight (g)\", y=\"Tumor Volume (mm3)\")\n",
    "plt.title(\"Weight vs Tumor Volume\")\n",
    "plt.show"
   ]
  },
  {
   "cell_type": "code",
   "execution_count": 16,
   "metadata": {},
   "outputs": [
    {
     "name": "stdout",
     "output_type": "stream",
     "text": [
      "The correlation between both factors is 0.84\n"
     ]
    }
   ],
   "source": [
    "# Calculate the correlation coefficient and linear regression model for mouse weight and average tumor volume for the Capomulin regimen\n",
    "\n",
    "#compute the Pearson correlation coefficient between weight and tumors\n",
    "weight = Capomulin.iloc[:, 1]\n",
    "tumor_vol = Capomulin.iloc[:, 2]\n",
    "\n",
    "correlation = st.pearsonr(weight, tumor_vol)\n",
    "\n",
    "print(f\"The correlation between both factors is {round(correlation[0],2)}\")\n"
   ]
  },
  {
   "cell_type": "code",
   "execution_count": 17,
   "metadata": {},
   "outputs": [
    {
     "data": {
      "image/png": "[encoded data removed]",
      "text/plain": [
       "<Figure size 432x288 with 1 Axes>"
      ]
     },
     "metadata": {
      "needs_background": "light"
     },
     "output_type": "display_data"
    }
   ],
   "source": [
    "#Create Linear Regression\n",
    "x_values = Capomulin['Weight (g)']\n",
    "y_values = Capomulin['Tumor Volume (mm3)']\n",
    "(slope, intercept, rvalue, pvalue, stderr) = linregress(x_values, y_values)\n",
    "regress_values = x_values * slope + intercept\n",
    "line_eq = \"y = \" + str(round(slope,2)) + \"x + \" + str(round(intercept,2))\n",
    "plt.scatter(x_values,y_values)\n",
    "plt.plot(x_values,regress_values,\"r-\")\n",
    "plt.annotate(line_eq,(6,10),fontsize=15,color=\"red\")\n",
    "plt.xlabel('Weight (g)')\n",
    "plt.ylabel('Tumor Volume (mm3)')\n",
    "plt.title(\"Weight vs Tumor Volume Regression\")\n",
    "plt.show()"
   ]
  },
  {
   "cell_type": "code",
   "execution_count": null,
   "metadata": {},
   "outputs": [],
   "source": []
  }
 ],
 "metadata": {
  "anaconda-cloud": {},
  "kernelspec": {
   "display_name": "Python [conda env:PythonData]",
   "language": "python",
   "name": "conda-env-PythonData-py"
  },
  "language_info": {
   "codemirror_mode": {
    "name": "ipython",
    "version": 3
   },
   "file_extension": ".py",
   "mimetype": "text/x-python",
   "name": "python",
   "nbconvert_exporter": "python",
   "pygments_lexer": "ipython3",
   "version": "3.6.9"
  }
 },
 "nbformat": 4,
 "nbformat_minor": 2
}
